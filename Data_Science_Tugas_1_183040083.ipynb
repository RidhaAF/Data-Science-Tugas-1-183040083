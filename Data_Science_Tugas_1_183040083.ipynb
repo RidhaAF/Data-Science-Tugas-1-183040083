{
  "nbformat": 4,
  "nbformat_minor": 0,
  "metadata": {
    "colab": {
      "name": "Data Science - Tugas 1 - 183040083.ipynb",
      "provenance": [],
      "collapsed_sections": [],
      "authorship_tag": "ABX9TyPOPQfrJfFnh2eoOloSeDfA",
      "include_colab_link": true
    },
    "kernelspec": {
      "name": "python3",
      "display_name": "Python 3"
    },
    "language_info": {
      "name": "python"
    }
  },
  "cells": [
    {
      "cell_type": "markdown",
      "metadata": {
        "id": "view-in-github",
        "colab_type": "text"
      },
      "source": [
        "<a href=\"https://colab.research.google.com/github/RidhaAF/Data-Science-Tugas-1-183040083/blob/main/Data_Science_Tugas_1_183040083.ipynb\" target=\"_parent\"><img src=\"https://colab.research.google.com/assets/colab-badge.svg\" alt=\"Open In Colab\"/></a>"
      ]
    },
    {
      "cell_type": "code",
      "metadata": {
        "colab": {
          "base_uri": "https://localhost:8080/",
          "height": 268
        },
        "id": "C3NLVfnxAX6J",
        "outputId": "8b27394a-ae65-475b-b843-e71f79cc9b0c"
      },
      "source": [
        "# Agar output visualisasi data bisa ditampilkan di Notebook.\n",
        "%matplotlib inline\n",
        "# Library untuk membuat beberapa perubahan pada gambar.\n",
        "import matplotlib.pyplot as plt\n",
        "# Library untuk membuat grafik dan statistik.\n",
        "import seaborn as sns; sns.set()\n",
        "# Library yang fokus pada scientific computing.\n",
        "import numpy as np\n",
        "\n",
        "# Mengassign nilai ke dalam variable rng,\n",
        "# np.random.RandomState() digunakan untuk menginisialisasi generator nomor acak.\n",
        "rng = np.random.RandomState(1)\n",
        "# Mengassign nilai ke dalam variable x,\n",
        "# dengan 10 * rng.rand(50), rng di dapat dari variable sebelumnya, rand(50) mendefinisikan 50x.\n",
        "x = 10 * rng.rand(50)\n",
        "# Mengassign nilai ke dalam variable y,\n",
        "# dengan 2 * x - 5 + rng.randn(50), x & rng di dapat dari variable sebelumnya, randn(50) mendefinisikan 50x.\n",
        "y = 2 * x - 5 + rng.randn(50)\n",
        "# plt.scatter() Memplot satu titik untuk setiap posisi, posisi diambil dari variable x dan y.\n",
        "plt.scatter(x, y);\n",
        "\n",
        "# Library untuk regresi (regression), klasifikasi (classification),\n",
        "# pengelompokkan/penggugusan (clustering), data preprocessing, dimensionality reduction,\n",
        "# dan model selection (pembandingan, validasi, dan pemilihan parameter maupun model).\n",
        "# LinearRegression digunakan untuk memprediksi nilai.\n",
        "from sklearn.linear_model import LinearRegression\n",
        "# Mengassign nilai ke dalam variable model,\n",
        "# fit_intercept = True, data diharapkan berada di tengah.\n",
        "model = LinearRegression(fit_intercept = True)\n",
        "\n",
        "# model.fit() digunakan untuk melatih model dengan input yang diberikan,\n",
        "# np.newaxis digunakan untuk meningkatkan dimensi array yang ada dengan satu dimensi lagi, 1D menjadi 2D.\n",
        "model.fit(x[:, np.newaxis], y)\n",
        "\n",
        "# Mengassign nilai ke dalam variable xfit,\n",
        "# np.linspace() digunakan untuk membuat urutan numerik.\n",
        "xfit = np.linspace(0, 10, 1000)\n",
        "# Mengassign nilai ke dalam variable yfit,\n",
        "# model.predict() menghasilkan prediksi output untuk sampel input.\n",
        "yfit = model.predict(xfit[:, np.newaxis])\n",
        "\n",
        "# plt.scatter() Memplot satu titik untuk setiap posisi, posisi diambil dari variable x dan y.\n",
        "plt.scatter(x, y)\n",
        "# plt.plot() digunakan untuk menggambar titik (penanda) dalam diagram.\n",
        "plt.plot(xfit, yfit);"
      ],
      "execution_count": 3,
      "outputs": [
        {
          "output_type": "display_data",
          "data": {
            "image/png": "[encoded data removed]",
            "text/plain": [
              "<Figure size 432x288 with 1 Axes>"
            ]
          },
          "metadata": {}
        }
      ]
    }
  ]
}